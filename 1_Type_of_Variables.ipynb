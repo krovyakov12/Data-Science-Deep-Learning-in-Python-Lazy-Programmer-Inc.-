{
  "nbformat": 4,
  "nbformat_minor": 0,
  "metadata": {
    "colab": {
      "name": "1. Type of Variables.ipynb",
      "provenance": [],
      "collapsed_sections": [],
      "toc_visible": true,
      "authorship_tag": "ABX9TyPR8nuFnIHaxv/q9DvnIhfP",
      "include_colab_link": true
    },
    "kernelspec": {
      "name": "python3",
      "display_name": "Python 3"
    },
    "language_info": {
      "name": "python"
    }
  },
  "cells": [
    {
      "cell_type": "markdown",
      "metadata": {
        "id": "view-in-github",
        "colab_type": "text"
      },
      "source": [
        "<a href=\"https://colab.research.google.com/github/krovyakov12/Feature-Engineering/blob/master/1_Type_of_Variables.ipynb\" target=\"_parent\"><img src=\"https://colab.research.google.com/assets/colab-badge.svg\" alt=\"Open In Colab\"/></a>"
      ]
    },
    {
      "cell_type": "code",
      "metadata": {
        "id": "mF5m2FVToz0v"
      },
      "source": [
        "import pandas as pd\n",
        "import numpy as np\n",
        "\n",
        "import matplotlib.pyplot as plt"
      ],
      "execution_count": 1,
      "outputs": []
    },
    {
      "cell_type": "code",
      "metadata": {
        "id": "bgPaFSK9xUyE"
      },
      "source": [
        "use_cols = ['loan_amnt', 'int_rate', 'annual_inc', 'open_acc', 'loan_status',  'open_il_12m']"
      ],
      "execution_count": 2,
      "outputs": []
    },
    {
      "cell_type": "code",
      "metadata": {
        "colab": {
          "base_uri": "https://localhost:8080/",
          "height": 195
        },
        "id": "WsFFC3WPD6Te",
        "outputId": "7c35a9b8-d4c7-4108-9815-372548c6f35b"
      },
      "source": [
        "data = pd.read_csv('lending_club_loans.csv', skiprows=0, header=1, usecols = use_cols).sample(10000, random_state = 5)\n",
        "data.head()"
      ],
      "execution_count": 3,
      "outputs": [
        {
          "output_type": "execute_result",
          "data": {
            "text/html": [
              "<div>\n",
              "<style scoped>\n",
              "    .dataframe tbody tr th:only-of-type {\n",
              "        vertical-align: middle;\n",
              "    }\n",
              "\n",
              "    .dataframe tbody tr th {\n",
              "        vertical-align: top;\n",
              "    }\n",
              "\n",
              "    .dataframe thead th {\n",
              "        text-align: right;\n",
              "    }\n",
              "</style>\n",
              "<table border=\"1\" class=\"dataframe\">\n",
              "  <thead>\n",
              "    <tr style=\"text-align: right;\">\n",
              "      <th></th>\n",
              "      <th>loan_amnt</th>\n",
              "      <th>int_rate</th>\n",
              "      <th>annual_inc</th>\n",
              "      <th>loan_status</th>\n",
              "      <th>open_acc</th>\n",
              "      <th>open_il_12m</th>\n",
              "    </tr>\n",
              "  </thead>\n",
              "  <tbody>\n",
              "    <tr>\n",
              "      <th>33840</th>\n",
              "      <td>4750.0</td>\n",
              "      <td>16.70%</td>\n",
              "      <td>31200.0</td>\n",
              "      <td>Charged Off</td>\n",
              "      <td>20.0</td>\n",
              "      <td>NaN</td>\n",
              "    </tr>\n",
              "    <tr>\n",
              "      <th>1545</th>\n",
              "      <td>7500.0</td>\n",
              "      <td>7.90%</td>\n",
              "      <td>42500.0</td>\n",
              "      <td>Fully Paid</td>\n",
              "      <td>3.0</td>\n",
              "      <td>NaN</td>\n",
              "    </tr>\n",
              "    <tr>\n",
              "      <th>19328</th>\n",
              "      <td>10800.0</td>\n",
              "      <td>12.68%</td>\n",
              "      <td>52000.0</td>\n",
              "      <td>Fully Paid</td>\n",
              "      <td>8.0</td>\n",
              "      <td>NaN</td>\n",
              "    </tr>\n",
              "    <tr>\n",
              "      <th>2214</th>\n",
              "      <td>14000.0</td>\n",
              "      <td>12.69%</td>\n",
              "      <td>62000.0</td>\n",
              "      <td>Fully Paid</td>\n",
              "      <td>8.0</td>\n",
              "      <td>NaN</td>\n",
              "    </tr>\n",
              "    <tr>\n",
              "      <th>19151</th>\n",
              "      <td>13000.0</td>\n",
              "      <td>10.74%</td>\n",
              "      <td>31000.0</td>\n",
              "      <td>Charged Off</td>\n",
              "      <td>3.0</td>\n",
              "      <td>NaN</td>\n",
              "    </tr>\n",
              "  </tbody>\n",
              "</table>\n",
              "</div>"
            ],
            "text/plain": [
              "       loan_amnt int_rate  annual_inc  loan_status  open_acc  open_il_12m\n",
              "33840     4750.0   16.70%     31200.0  Charged Off      20.0          NaN\n",
              "1545      7500.0    7.90%     42500.0   Fully Paid       3.0          NaN\n",
              "19328    10800.0   12.68%     52000.0   Fully Paid       8.0          NaN\n",
              "2214     14000.0   12.69%     62000.0   Fully Paid       8.0          NaN\n",
              "19151    13000.0   10.74%     31000.0  Charged Off       3.0          NaN"
            ]
          },
          "metadata": {
            "tags": []
          },
          "execution_count": 3
        }
      ]
    },
    {
      "cell_type": "markdown",
      "metadata": {
        "id": "0KwG_w6rxgwA"
      },
      "source": [
        "# Непрерывные переменные (Continous Variables)"
      ]
    },
    {
      "cell_type": "code",
      "metadata": {
        "colab": {
          "base_uri": "https://localhost:8080/"
        },
        "id": "b8XkqXvI7X_U",
        "outputId": "91a048d1-6991-42fd-c118-3abddf75cacc"
      },
      "source": [
        "# посмотрим на переменную loan_amnt\n",
        "data['loan_amnt'].unique()[:10]"
      ],
      "execution_count": 4,
      "outputs": [
        {
          "output_type": "execute_result",
          "data": {
            "text/plain": [
              "array([ 4750.,  7500., 10800., 14000., 13000.,  2000., 11500., 19600.,\n",
              "        8000.,  1500.])"
            ]
          },
          "metadata": {
            "tags": []
          },
          "execution_count": 4
        }
      ]
    },
    {
      "cell_type": "code",
      "metadata": {
        "colab": {
          "base_uri": "https://localhost:8080/",
          "height": 295
        },
        "id": "nun558nP7hID",
        "outputId": "45382f5c-9861-4df5-812b-79578e9bc8a7"
      },
      "source": [
        "# создадим гистограмму\n",
        "fig = data['loan_amnt'].hist(bins = 50)\n",
        "\n",
        "fig.set_title('Loan Amount Requested')\n",
        "fig.set_xlabel('Loan Amount')\n",
        "fig.set_ylabel('Number of Loans');"
      ],
      "execution_count": 5,
      "outputs": [
        {
          "output_type": "display_data",
          "data": {
            "image/png": "[encoded data removed]",
            "text/plain": [
              "<Figure size 432x288 with 1 Axes>"
            ]
          },
          "metadata": {
            "tags": [],
            "needs_background": "light"
          }
        }
      ]
    },
    {
      "cell_type": "markdown",
      "metadata": {
        "id": "d87rZ_Xj7-dN"
      },
      "source": [
        "Вывод: значения ссуд для заемщиков варьируются в широком диапазоне, что характерно для непрерывных переменных. На графике выские столбцы соответстветствуют самым популярным суммам ссуд 10000, 15000, 20000, 35000, которые по-видимому предоставляются компанией-кредитором по умолчанию. Менее частые суммы запрашивются людьми под определенные цели."
      ]
    },
    {
      "cell_type": "code",
      "metadata": {
        "colab": {
          "base_uri": "https://localhost:8080/"
        },
        "id": "DGtnY0U98e7m",
        "outputId": "068f7aea-8063-4285-f5b7-aefde60292d7"
      },
      "source": [
        "# посмотрим на переменную int_rate\n",
        "data['int_rate'].unique()[:10]"
      ],
      "execution_count": 6,
      "outputs": [
        {
          "output_type": "execute_result",
          "data": {
            "text/plain": [
              "array([' 16.70%', '  7.90%', ' 12.68%', ' 12.69%', ' 10.74%', '  7.51%',\n",
              "       ' 11.99%', ' 12.42%', ' 11.86%', ' 12.84%'], dtype=object)"
            ]
          },
          "metadata": {
            "tags": []
          },
          "execution_count": 6
        }
      ]
    },
    {
      "cell_type": "code",
      "metadata": {
        "id": "fvtNtWeuFNLT"
      },
      "source": [
        "data['int_rate'] = data['int_rate'].str.replace('%','').astype(float)"
      ],
      "execution_count": 7,
      "outputs": []
    },
    {
      "cell_type": "code",
      "metadata": {
        "colab": {
          "base_uri": "https://localhost:8080/",
          "height": 295
        },
        "id": "Yf41Z1sQ8kIr",
        "outputId": "951eb6c7-2d76-450c-9262-9c76a7b4ce3d"
      },
      "source": [
        "# создадим гистограмму\n",
        "fig = data['int_rate'].hist(bins = 30)\n",
        "\n",
        "fig.set_title('Interest Rate')\n",
        "fig.set_xlabel('Interest Rate')\n",
        "fig.set_ylabel('Number of Loans');"
      ],
      "execution_count": 8,
      "outputs": [
        {
          "output_type": "display_data",
          "data": {
            "image/png": "[encoded data removed]",
            "text/plain": [
              "<Figure size 432x288 with 1 Axes>"
            ]
          },
          "metadata": {
            "tags": [],
            "needs_background": "light"
          }
        }
      ]
    },
    {
      "cell_type": "markdown",
      "metadata": {
        "id": "NjWy7Jj--RFQ"
      },
      "source": [
        "Вывод: значения процентной ставки непрерывно меняются в рассматрвиаемом диапазоне значений.  "
      ]
    },
    {
      "cell_type": "code",
      "metadata": {
        "colab": {
          "base_uri": "https://localhost:8080/",
          "height": 295
        },
        "id": "juwQwByN-zo5",
        "outputId": "2a99a52d-ff62-4f05-b25d-3f2478e256f2"
      },
      "source": [
        "# посмотрим на переменную annual_inc\n",
        "fig = data['annual_inc'].hist(bins = 100)\n",
        "\n",
        "fig.set_xlim(0, 200000)\n",
        "\n",
        "fig.set_title('Customer`s Annual Income')\n",
        "fig.set_xlabel('Annual Income')\n",
        "fig.set_ylabel('Number of Customers');"
      ],
      "execution_count": 9,
      "outputs": [
        {
          "output_type": "display_data",
          "data": {
            "image/png": "[encoded data removed]",
            "text/plain": [
              "<Figure size 432x288 with 1 Axes>"
            ]
          },
          "metadata": {
            "tags": [],
            "needs_background": "light"
          }
        }
      ]
    },
    {
      "cell_type": "markdown",
      "metadata": {
        "id": "VEAREeoS_Xae"
      },
      "source": [
        "Вывод: основная масса указанных заемщиками размеров дохода варьируется от 30 до 70К. При этом лишь небольшая часть заемщиков зарабатывает гораздо больше. Значения переменной изменяются в рассматриваемом диапазоне, поскольку мы имеем дело с непрерывной переменной."
      ]
    },
    {
      "cell_type": "markdown",
      "metadata": {
        "id": "1yJp6dLIAEw9"
      },
      "source": [
        "# Дискретные переменные (Discrete Variables)"
      ]
    },
    {
      "cell_type": "code",
      "metadata": {
        "colab": {
          "base_uri": "https://localhost:8080/"
        },
        "id": "y32izIpIANef",
        "outputId": "f5a50e0b-ac48-4930-ba1e-466686e138f0"
      },
      "source": [
        "# посмотрим на переменную open_acc\t\n",
        "data['open_acc'].dropna().unique()"
      ],
      "execution_count": 10,
      "outputs": [
        {
          "output_type": "execute_result",
          "data": {
            "text/plain": [
              "array([20.,  3.,  8., 14., 24.,  6., 10.,  5., 17.,  7.,  4.,  9., 26.,\n",
              "       13., 11., 16., 12., 15.,  2., 19., 18., 21., 35., 27., 23., 30.,\n",
              "        1., 37., 31., 22., 29., 28., 25., 42., 32., 34., 33., 36.])"
            ]
          },
          "metadata": {
            "tags": []
          },
          "execution_count": 10
        }
      ]
    },
    {
      "cell_type": "code",
      "metadata": {
        "colab": {
          "base_uri": "https://localhost:8080/",
          "height": 295
        },
        "id": "3A--5l_-Anym",
        "outputId": "8ddb5ab2-fb6b-4134-e472-5ab83669319e"
      },
      "source": [
        "# создадаим гистограмму\n",
        "fig = data['open_acc'].hist(bins = 100)\n",
        "\n",
        "fig.set_xlim(0, 30)\n",
        "\n",
        "fig.set_title('Number of open accounts')\n",
        "fig.set_xlabel('Number of open accounts')\n",
        "fig.set_ylabel('Number of Customers');"
      ],
      "execution_count": 11,
      "outputs": [
        {
          "output_type": "display_data",
          "data": {
            "image/png": "[encoded data removed]",
            "text/plain": [
              "<Figure size 432x288 with 1 Axes>"
            ]
          },
          "metadata": {
            "tags": [],
            "needs_background": "light"
          }
        }
      ]
    },
    {
      "cell_type": "markdown",
      "metadata": {
        "id": "KTG5CNA9A35Y"
      },
      "source": [
        "Вывод: гистограммы дискретных переменных имеют пропуски, т.к. не все значения вутри рассматриваемого интервала представлены в значениях переменной. Например, отсутствуют дробные значения. "
      ]
    },
    {
      "cell_type": "markdown",
      "metadata": {
        "id": "Fed_hMR0KNNV"
      },
      "source": [
        "#Частный случай дискретных переменных - бинарные переменные"
      ]
    },
    {
      "cell_type": "code",
      "metadata": {
        "colab": {
          "base_uri": "https://localhost:8080/"
        },
        "id": "y0aIuMMdKw_5",
        "outputId": "8a303b1f-c274-4fb0-96b9-f162ae2efd4f"
      },
      "source": [
        "# посмотрим на переменную loan_status\n",
        "data['loan_status'].unique()"
      ],
      "execution_count": 12,
      "outputs": [
        {
          "output_type": "execute_result",
          "data": {
            "text/plain": [
              "array(['Charged Off', 'Fully Paid', 'Current',\n",
              "       'Does not meet the credit policy. Status:Charged Off',\n",
              "       'Does not meet the credit policy. Status:Fully Paid',\n",
              "       'In Grace Period', 'Late (31-120 days)', 'Late (16-30 days)'],\n",
              "      dtype=object)"
            ]
          },
          "metadata": {
            "tags": []
          },
          "execution_count": 12
        }
      ]
    },
    {
      "cell_type": "code",
      "metadata": {
        "colab": {
          "base_uri": "https://localhost:8080/"
        },
        "id": "sedqEbIjLFZP",
        "outputId": "c29c3aca-c593-480f-91af-7c0f105a3799"
      },
      "source": [
        "# создадим бинарную переменную из категории charged off\n",
        "data['charged_off'] = np.where(data['loan_status'].isin(['Charged Off']),1,0)\n",
        "# найдем долю клиентов со списанной ссудой\n",
        "data['charged_off'].mean()"
      ],
      "execution_count": 13,
      "outputs": [
        {
          "output_type": "execute_result",
          "data": {
            "text/plain": [
              "0.1337"
            ]
          },
          "metadata": {
            "tags": []
          },
          "execution_count": 13
        }
      ]
    },
    {
      "cell_type": "code",
      "metadata": {
        "colab": {
          "base_uri": "https://localhost:8080/",
          "height": 295
        },
        "id": "D26Ryf-KLyhB",
        "outputId": "591a9967-bc82-4719-d3b0-8dd632147946"
      },
      "source": [
        "# создадим гистограмму \n",
        "fig = data['charged_off'].hist()\n",
        "\n",
        "fig.set_xlim(0, 2)\n",
        "\n",
        "fig.set_title('Charged-off accounts')\n",
        "fig.set_xlabel('Charged-off accounts')\n",
        "fig.set_ylabel('Number of Loans');"
      ],
      "execution_count": 14,
      "outputs": [
        {
          "output_type": "display_data",
          "data": {
            "image/png": "[encoded data removed]",
            "text/plain": [
              "<Figure size 432x288 with 1 Axes>"
            ]
          },
          "metadata": {
            "tags": [],
            "needs_background": "light"
          }
        }
      ]
    },
    {
      "cell_type": "markdown",
      "metadata": {
        "id": "4D5PpN4oBxh5"
      },
      "source": [
        "Вывод: переменная содержит только 2 значения 0 (долг не списан) и 1 (долг списан)."
      ]
    },
    {
      "cell_type": "markdown",
      "metadata": {
        "id": "iE-CPI2tMNDH"
      },
      "source": [
        "# Категориальные переменные (Categorical Variables)"
      ]
    },
    {
      "cell_type": "code",
      "metadata": {
        "id": "jji9Wr8KAvIb"
      },
      "source": [
        "use_cols = ['id', 'purpose', 'loan_status', 'home_ownership']"
      ],
      "execution_count": 15,
      "outputs": []
    },
    {
      "cell_type": "code",
      "metadata": {
        "id": "REXl7VyIAvjy",
        "colab": {
          "base_uri": "https://localhost:8080/",
          "height": 249
        },
        "outputId": "3ca26455-2cae-4774-fcca-b5861621b5ee"
      },
      "source": [
        "data = pd.read_csv('lending_club_loans.csv', skiprows=0, header=1, usecols = use_cols).sample(10000, random_state = 5)\n",
        "data.head()"
      ],
      "execution_count": 16,
      "outputs": [
        {
          "output_type": "stream",
          "text": [
            "/usr/local/lib/python3.7/dist-packages/IPython/core/interactiveshell.py:2718: DtypeWarning: Columns (0) have mixed types.Specify dtype option on import or set low_memory=False.\n",
            "  interactivity=interactivity, compiler=compiler, result=result)\n"
          ],
          "name": "stderr"
        },
        {
          "output_type": "execute_result",
          "data": {
            "text/html": [
              "<div>\n",
              "<style scoped>\n",
              "    .dataframe tbody tr th:only-of-type {\n",
              "        vertical-align: middle;\n",
              "    }\n",
              "\n",
              "    .dataframe tbody tr th {\n",
              "        vertical-align: top;\n",
              "    }\n",
              "\n",
              "    .dataframe thead th {\n",
              "        text-align: right;\n",
              "    }\n",
              "</style>\n",
              "<table border=\"1\" class=\"dataframe\">\n",
              "  <thead>\n",
              "    <tr style=\"text-align: right;\">\n",
              "      <th></th>\n",
              "      <th>id</th>\n",
              "      <th>home_ownership</th>\n",
              "      <th>loan_status</th>\n",
              "      <th>purpose</th>\n",
              "    </tr>\n",
              "  </thead>\n",
              "  <tbody>\n",
              "    <tr>\n",
              "      <th>33840</th>\n",
              "      <td>462318</td>\n",
              "      <td>MORTGAGE</td>\n",
              "      <td>Charged Off</td>\n",
              "      <td>small_business</td>\n",
              "    </tr>\n",
              "    <tr>\n",
              "      <th>1545</th>\n",
              "      <td>1048862</td>\n",
              "      <td>RENT</td>\n",
              "      <td>Fully Paid</td>\n",
              "      <td>major_purchase</td>\n",
              "    </tr>\n",
              "    <tr>\n",
              "      <th>19328</th>\n",
              "      <td>678561</td>\n",
              "      <td>MORTGAGE</td>\n",
              "      <td>Fully Paid</td>\n",
              "      <td>debt_consolidation</td>\n",
              "    </tr>\n",
              "    <tr>\n",
              "      <th>2214</th>\n",
              "      <td>1038931</td>\n",
              "      <td>RENT</td>\n",
              "      <td>Fully Paid</td>\n",
              "      <td>debt_consolidation</td>\n",
              "    </tr>\n",
              "    <tr>\n",
              "      <th>19151</th>\n",
              "      <td>679022</td>\n",
              "      <td>MORTGAGE</td>\n",
              "      <td>Charged Off</td>\n",
              "      <td>house</td>\n",
              "    </tr>\n",
              "  </tbody>\n",
              "</table>\n",
              "</div>"
            ],
            "text/plain": [
              "            id home_ownership  loan_status             purpose\n",
              "33840   462318       MORTGAGE  Charged Off      small_business\n",
              "1545   1048862           RENT   Fully Paid      major_purchase\n",
              "19328   678561       MORTGAGE   Fully Paid  debt_consolidation\n",
              "2214   1038931           RENT   Fully Paid  debt_consolidation\n",
              "19151   679022       MORTGAGE  Charged Off               house"
            ]
          },
          "metadata": {
            "tags": []
          },
          "execution_count": 16
        }
      ]
    },
    {
      "cell_type": "code",
      "metadata": {
        "id": "0SeaWgxXAvtV",
        "colab": {
          "base_uri": "https://localhost:8080/"
        },
        "outputId": "b9be9f58-e327-4722-a627-615c6ade966c"
      },
      "source": [
        "# посмотрим на переменнеую home_ownership\n",
        "data['home_ownership'].unique()"
      ],
      "execution_count": 17,
      "outputs": [
        {
          "output_type": "execute_result",
          "data": {
            "text/plain": [
              "array(['MORTGAGE', 'RENT', 'OWN', 'NONE', 'OTHER'], dtype=object)"
            ]
          },
          "metadata": {
            "tags": []
          },
          "execution_count": 17
        }
      ]
    },
    {
      "cell_type": "code",
      "metadata": {
        "colab": {
          "base_uri": "https://localhost:8080/",
          "height": 328
        },
        "id": "KE0L9BYW8Oxg",
        "outputId": "6ed9704a-a296-4537-b6da-bf513678b6c7"
      },
      "source": [
        "# создадим столбчатую диаграмму\n",
        "fig = data['home_ownership'].value_counts().plot(kind = 'bar')\n",
        "\n",
        "fig.set_title('Home Ownership')\n",
        "fig.set_ylabel('Number of customers');"
      ],
      "execution_count": 18,
      "outputs": [
        {
          "output_type": "display_data",
          "data": {
            "image/png": "[encoded data removed]",
            "text/plain": [
              "<Figure size 432x288 with 1 Axes>"
            ]
          },
          "metadata": {
            "tags": [],
            "needs_background": "light"
          }
        }
      ]
    },
    {
      "cell_type": "markdown",
      "metadata": {
        "id": "lBTQXUfo9Us_"
      },
      "source": [
        "Вывод: у большинства заемщиков недвижимость в ипотеке или в аренде. Лишь небольшая часть заемщиков имеет недвижимость в собственности."
      ]
    },
    {
      "cell_type": "code",
      "metadata": {
        "colab": {
          "base_uri": "https://localhost:8080/"
        },
        "id": "TGdLiexI-R87",
        "outputId": "37c3f028-88e7-4f3d-f7bb-258124e86f5a"
      },
      "source": [
        "# посмотрим еще раз на данные\n",
        "data['home_ownership'].value_counts()"
      ],
      "execution_count": 19,
      "outputs": [
        {
          "output_type": "execute_result",
          "data": {
            "text/plain": [
              "RENT        4740\n",
              "MORTGAGE    4477\n",
              "OWN          751\n",
              "OTHER         27\n",
              "NONE           5\n",
              "Name: home_ownership, dtype: int64"
            ]
          },
          "metadata": {
            "tags": []
          },
          "execution_count": 19
        }
      ]
    },
    {
      "cell_type": "markdown",
      "metadata": {
        "id": "cevEHXQ1-RzE"
      },
      "source": [
        "Вывод: 27 заемщиков указывают прочий вариант владения недвижимостью, и еще 5 человек на отсутствие владения недвижимостью, например, они могут жить у родственников или родителей."
      ]
    },
    {
      "cell_type": "code",
      "metadata": {
        "colab": {
          "base_uri": "https://localhost:8080/"
        },
        "id": "9UT8Jghy-reb",
        "outputId": "be20f7e5-3fc6-47de-a6bb-2730c35dc335"
      },
      "source": [
        "# посмотрим на переменнеую purpose\n",
        "\n",
        "data['purpose'].unique()"
      ],
      "execution_count": 20,
      "outputs": [
        {
          "output_type": "execute_result",
          "data": {
            "text/plain": [
              "array(['small_business', 'major_purchase', 'debt_consolidation', 'house',\n",
              "       'other', 'credit_card', 'medical', 'wedding', 'educational',\n",
              "       'vacation', 'car', 'home_improvement', 'moving',\n",
              "       'renewable_energy'], dtype=object)"
            ]
          },
          "metadata": {
            "tags": []
          },
          "execution_count": 20
        }
      ]
    },
    {
      "cell_type": "code",
      "metadata": {
        "colab": {
          "base_uri": "https://localhost:8080/",
          "height": 371
        },
        "id": "j4fJAbDY_Fi0",
        "outputId": "fd0726d1-7484-4f18-cb7b-9195a3262542"
      },
      "source": [
        "# создадим столбчатую диаграмму\n",
        "fig = data['purpose'].value_counts().plot(kind = 'bar')\n",
        "\n",
        "fig.set_title('Loan Purpose')\n",
        "fig.set_ylabel('Number of customers');"
      ],
      "execution_count": 21,
      "outputs": [
        {
          "output_type": "display_data",
          "data": {
            "image/png": "[encoded data removed]",
            "text/plain": [
              "<Figure size 432x288 with 1 Axes>"
            ]
          },
          "metadata": {
            "tags": [],
            "needs_background": "light"
          }
        }
      ]
    },
    {
      "cell_type": "markdown",
      "metadata": {
        "id": "RKpoLsw0_M2j"
      },
      "source": [
        "Вывод: большинству заемщиков займы требуются на рефинансирование долга по другим займам, а также на погашение задолженностей по кредитным картам. Это наиболее частая цель обращения в компанию Lending Club: консолидировать отдельные задолженности в задолженность по одному займу. Такие займы, как правило, предоставляют больше преимуществ заемщикам, поскольку подразумевают более низкий процент, чем процент по кредитной карте, или более продолжительный период погашения основного долга."
      ]
    },
    {
      "cell_type": "code",
      "metadata": {
        "colab": {
          "base_uri": "https://localhost:8080/"
        },
        "id": "dtb0WG7_AhOW",
        "outputId": "e65b1665-a5c0-4591-eead-0341d4ac1979"
      },
      "source": [
        "# посмотрим на переменнеую loan_status\n",
        "\n",
        "data['loan_status'].unique()"
      ],
      "execution_count": 23,
      "outputs": [
        {
          "output_type": "execute_result",
          "data": {
            "text/plain": [
              "array(['Charged Off', 'Fully Paid', 'Current',\n",
              "       'Does not meet the credit policy. Status:Charged Off',\n",
              "       'Does not meet the credit policy. Status:Fully Paid',\n",
              "       'In Grace Period', 'Late (31-120 days)', 'Late (16-30 days)'],\n",
              "      dtype=object)"
            ]
          },
          "metadata": {
            "tags": []
          },
          "execution_count": 23
        }
      ]
    },
    {
      "cell_type": "code",
      "metadata": {
        "colab": {
          "base_uri": "https://localhost:8080/",
          "height": 529
        },
        "id": "GW7Wsg4CAt4E",
        "outputId": "24458a81-793a-458e-e854-baa07847af15"
      },
      "source": [
        "# создадим столбчатую диаграмму\n",
        "fig = data['loan_status'].value_counts().plot(kind = 'bar')\n",
        "\n",
        "fig.set_title('Status of the Loan')\n",
        "fig.set_ylabel('Number of customers');"
      ],
      "execution_count": 24,
      "outputs": [
        {
          "output_type": "display_data",
          "data": {
            "image/png": "[encoded data removed]",
            "text/plain": [
              "<Figure size 432x288 with 1 Axes>"
            ]
          },
          "metadata": {
            "tags": [],
            "needs_background": "light"
          }
        }
      ]
    },
    {
      "cell_type": "markdown",
      "metadata": {
        "id": "gG6aVMV4A0gg"
      },
      "source": [
        "Вывод: статус погашения большинства займов - \"полностью оплачен\". Также есть немалое количество платежей со статусом \"списан\". Это означет, что у компании нет возможности взыскать задолженность по этому займу, деньги потеряны."
      ]
    },
    {
      "cell_type": "code",
      "metadata": {
        "colab": {
          "base_uri": "https://localhost:8080/"
        },
        "id": "H2DCvRTnBmWF",
        "outputId": "df82d201-a989-4dba-8408-336832358eee"
      },
      "source": [
        "# посмотрим на переменнеую id\n",
        "\n",
        "data['id'].head()"
      ],
      "execution_count": 25,
      "outputs": [
        {
          "output_type": "execute_result",
          "data": {
            "text/plain": [
              "33840     462318\n",
              "1545     1048862\n",
              "19328     678561\n",
              "2214     1038931\n",
              "19151     679022\n",
              "Name: id, dtype: object"
            ]
          },
          "metadata": {
            "tags": []
          },
          "execution_count": 25
        }
      ]
    },
    {
      "cell_type": "markdown",
      "metadata": {
        "id": "QwtXKLt3BtE1"
      },
      "source": [
        "Вывод: переменная id служит для идентификации заемщика, обеспечивая конфиденциальность и защиту данных."
      ]
    },
    {
      "cell_type": "code",
      "metadata": {
        "colab": {
          "base_uri": "https://localhost:8080/"
        },
        "id": "nsf7XEKWCFnA",
        "outputId": "3fb124fd-2125-4913-9968-efbf5dd5b66f"
      },
      "source": [
        " # кол-во уникальных заемщиков\n",
        " len(data['id'].unique())"
      ],
      "execution_count": 27,
      "outputs": [
        {
          "output_type": "execute_result",
          "data": {
            "text/plain": [
              "10000"
            ]
          },
          "metadata": {
            "tags": []
          },
          "execution_count": 27
        }
      ]
    },
    {
      "cell_type": "markdown",
      "metadata": {
        "id": "s7ooz1RTCMdS"
      },
      "source": [
        "# Переменные дат и времени"
      ]
    },
    {
      "cell_type": "code",
      "metadata": {
        "id": "U6wAMblbCeJJ"
      },
      "source": [
        "use_cols = ['loan_amnt', 'grade', 'purpose', 'issue_d', 'last_pymnt_d']"
      ],
      "execution_count": 28,
      "outputs": []
    },
    {
      "cell_type": "code",
      "metadata": {
        "colab": {
          "base_uri": "https://localhost:8080/",
          "height": 195
        },
        "id": "bVgRvT0dCi7O",
        "outputId": "655beb49-50bd-4a57-f264-c55e5195dfdb"
      },
      "source": [
        "data = pd.read_csv('lending_club_loans.csv', skiprows=0, header=1, usecols = use_cols).sample(10000, random_state = 5)\n",
        "data.head()"
      ],
      "execution_count": 29,
      "outputs": [
        {
          "output_type": "execute_result",
          "data": {
            "text/html": [
              "<div>\n",
              "<style scoped>\n",
              "    .dataframe tbody tr th:only-of-type {\n",
              "        vertical-align: middle;\n",
              "    }\n",
              "\n",
              "    .dataframe tbody tr th {\n",
              "        vertical-align: top;\n",
              "    }\n",
              "\n",
              "    .dataframe thead th {\n",
              "        text-align: right;\n",
              "    }\n",
              "</style>\n",
              "<table border=\"1\" class=\"dataframe\">\n",
              "  <thead>\n",
              "    <tr style=\"text-align: right;\">\n",
              "      <th></th>\n",
              "      <th>loan_amnt</th>\n",
              "      <th>grade</th>\n",
              "      <th>issue_d</th>\n",
              "      <th>purpose</th>\n",
              "      <th>last_pymnt_d</th>\n",
              "    </tr>\n",
              "  </thead>\n",
              "  <tbody>\n",
              "    <tr>\n",
              "      <th>33840</th>\n",
              "      <td>4750.0</td>\n",
              "      <td>E</td>\n",
              "      <td>Dec-2009</td>\n",
              "      <td>small_business</td>\n",
              "      <td>Dec-2011</td>\n",
              "    </tr>\n",
              "    <tr>\n",
              "      <th>1545</th>\n",
              "      <td>7500.0</td>\n",
              "      <td>A</td>\n",
              "      <td>Dec-2011</td>\n",
              "      <td>major_purchase</td>\n",
              "      <td>Jul-2012</td>\n",
              "    </tr>\n",
              "    <tr>\n",
              "      <th>19328</th>\n",
              "      <td>10800.0</td>\n",
              "      <td>C</td>\n",
              "      <td>Feb-2011</td>\n",
              "      <td>debt_consolidation</td>\n",
              "      <td>Mar-2016</td>\n",
              "    </tr>\n",
              "    <tr>\n",
              "      <th>2214</th>\n",
              "      <td>14000.0</td>\n",
              "      <td>B</td>\n",
              "      <td>Nov-2011</td>\n",
              "      <td>debt_consolidation</td>\n",
              "      <td>Jun-2013</td>\n",
              "    </tr>\n",
              "    <tr>\n",
              "      <th>19151</th>\n",
              "      <td>13000.0</td>\n",
              "      <td>B</td>\n",
              "      <td>Feb-2011</td>\n",
              "      <td>house</td>\n",
              "      <td>Aug-2012</td>\n",
              "    </tr>\n",
              "  </tbody>\n",
              "</table>\n",
              "</div>"
            ],
            "text/plain": [
              "       loan_amnt grade   issue_d             purpose last_pymnt_d\n",
              "33840     4750.0     E  Dec-2009      small_business     Dec-2011\n",
              "1545      7500.0     A  Dec-2011      major_purchase     Jul-2012\n",
              "19328    10800.0     C  Feb-2011  debt_consolidation     Mar-2016\n",
              "2214     14000.0     B  Nov-2011  debt_consolidation     Jun-2013\n",
              "19151    13000.0     B  Feb-2011               house     Aug-2012"
            ]
          },
          "metadata": {
            "tags": []
          },
          "execution_count": 29
        }
      ]
    },
    {
      "cell_type": "code",
      "metadata": {
        "colab": {
          "base_uri": "https://localhost:8080/"
        },
        "id": "1HLBNhorC3Zr",
        "outputId": "f19294ec-5bdd-4cb0-9883-c4f9b9e8870f"
      },
      "source": [
        "# pandas по умолчанию присвает переменным дат и времени тип строковые\n",
        "data.dtypes"
      ],
      "execution_count": 30,
      "outputs": [
        {
          "output_type": "execute_result",
          "data": {
            "text/plain": [
              "loan_amnt       float64\n",
              "grade            object\n",
              "issue_d          object\n",
              "purpose          object\n",
              "last_pymnt_d     object\n",
              "dtype: object"
            ]
          },
          "metadata": {
            "tags": []
          },
          "execution_count": 30
        }
      ]
    },
    {
      "cell_type": "code",
      "metadata": {
        "colab": {
          "base_uri": "https://localhost:8080/",
          "height": 195
        },
        "id": "gXAu6vbBDDuA",
        "outputId": "fbf5de38-4bcf-4379-f0c1-13b73ef67732"
      },
      "source": [
        "# сделаем парсинг дат, чтобы их можно было анализировать\n",
        "data['issue_dt'] = pd.to_datetime(data['issue_d'])\n",
        "data['last_pymnt_dt'] = pd.to_datetime(data['last_pymnt_d'])\n",
        "\n",
        "data[['issue_d', 'issue_dt', 'last_pymnt_d', 'last_pymnt_dt']].head()"
      ],
      "execution_count": 32,
      "outputs": [
        {
          "output_type": "execute_result",
          "data": {
            "text/html": [
              "<div>\n",
              "<style scoped>\n",
              "    .dataframe tbody tr th:only-of-type {\n",
              "        vertical-align: middle;\n",
              "    }\n",
              "\n",
              "    .dataframe tbody tr th {\n",
              "        vertical-align: top;\n",
              "    }\n",
              "\n",
              "    .dataframe thead th {\n",
              "        text-align: right;\n",
              "    }\n",
              "</style>\n",
              "<table border=\"1\" class=\"dataframe\">\n",
              "  <thead>\n",
              "    <tr style=\"text-align: right;\">\n",
              "      <th></th>\n",
              "      <th>issue_d</th>\n",
              "      <th>issue_dt</th>\n",
              "      <th>last_pymnt_d</th>\n",
              "      <th>last_pymnt_dt</th>\n",
              "    </tr>\n",
              "  </thead>\n",
              "  <tbody>\n",
              "    <tr>\n",
              "      <th>33840</th>\n",
              "      <td>Dec-2009</td>\n",
              "      <td>2009-12-01</td>\n",
              "      <td>Dec-2011</td>\n",
              "      <td>2011-12-01</td>\n",
              "    </tr>\n",
              "    <tr>\n",
              "      <th>1545</th>\n",
              "      <td>Dec-2011</td>\n",
              "      <td>2011-12-01</td>\n",
              "      <td>Jul-2012</td>\n",
              "      <td>2012-07-01</td>\n",
              "    </tr>\n",
              "    <tr>\n",
              "      <th>19328</th>\n",
              "      <td>Feb-2011</td>\n",
              "      <td>2011-02-01</td>\n",
              "      <td>Mar-2016</td>\n",
              "      <td>2016-03-01</td>\n",
              "    </tr>\n",
              "    <tr>\n",
              "      <th>2214</th>\n",
              "      <td>Nov-2011</td>\n",
              "      <td>2011-11-01</td>\n",
              "      <td>Jun-2013</td>\n",
              "      <td>2013-06-01</td>\n",
              "    </tr>\n",
              "    <tr>\n",
              "      <th>19151</th>\n",
              "      <td>Feb-2011</td>\n",
              "      <td>2011-02-01</td>\n",
              "      <td>Aug-2012</td>\n",
              "      <td>2012-08-01</td>\n",
              "    </tr>\n",
              "  </tbody>\n",
              "</table>\n",
              "</div>"
            ],
            "text/plain": [
              "        issue_d   issue_dt last_pymnt_d last_pymnt_dt\n",
              "33840  Dec-2009 2009-12-01     Dec-2011    2011-12-01\n",
              "1545   Dec-2011 2011-12-01     Jul-2012    2012-07-01\n",
              "19328  Feb-2011 2011-02-01     Mar-2016    2016-03-01\n",
              "2214   Nov-2011 2011-11-01     Jun-2013    2013-06-01\n",
              "19151  Feb-2011 2011-02-01     Aug-2012    2012-08-01"
            ]
          },
          "metadata": {
            "tags": []
          },
          "execution_count": 32
        }
      ]
    },
    {
      "cell_type": "code",
      "metadata": {
        "colab": {
          "base_uri": "https://localhost:8080/",
          "height": 514
        },
        "id": "-pAUYReJDoCx",
        "outputId": "1e406a54-5ea3-4777-8af9-f00beebcaf16"
      },
      "source": [
        "# посмотрим, сколько денег выделил (одолжил) Lending Club на различных рисковых рынках (переменная grade)\n",
        "fig = data.groupby(['issue_dt','grade'])['loan_amnt'].sum().unstack().plot(\n",
        "    figsize = (14,8), linewidth = 2)\n",
        "\n",
        "fig.set_title('Disbursed amount in time')\n",
        "fig.set_ylabel('Disbursed amount in $');"
      ],
      "execution_count": 33,
      "outputs": [
        {
          "output_type": "display_data",
          "data": {
            "image/png": "[encoded data removed]",
            "text/plain": [
              "<Figure size 1008x576 with 1 Axes>"
            ]
          },
          "metadata": {
            "tags": [],
            "needs_background": "light"
          }
        }
      ]
    },
    {
      "cell_type": "markdown",
      "metadata": {
        "id": "YpxOWNycEk8p"
      },
      "source": [
        "Вывод: Lending Ckub увеличил объем займов в период с 2009 по 2012 гг. Тенденция указывает на дальнейший рост объемов выдаваемых займов. Средства направляются в сегменты риска B, A и C.\n",
        "\n",
        "Здесь сегмент A представлен заемщиками с низкой вероятностью риска, с хорошей финансовой ситуацией. Твакие заемщики получают низкие процентные ставки.\n",
        "\n",
        "Сегменты E,F,G представлены более рисковыми заемщиками, у которых хуже финансовая ситуация или которые имеют недостаточную кредитную историю для оценки кредитоспособности. Часто займы им выдаются под высокие проценты, а инвесторы несут высокие риски, выдавая им займы."
      ]
    },
    {
      "cell_type": "markdown",
      "metadata": {
        "id": "ZDz4-O7cGJFT"
      },
      "source": [
        "# Переменные смешанных типов"
      ]
    },
    {
      "cell_type": "code",
      "metadata": {
        "colab": {
          "base_uri": "https://localhost:8080/",
          "height": 195
        },
        "id": "TNnKFv5aGewl",
        "outputId": "b0d065bf-a447-4792-e606-0489ee12e374"
      },
      "source": [
        "data = pd.read_csv('5.1 sample_s2.csv.csv')\n",
        "data.head()"
      ],
      "execution_count": 34,
      "outputs": [
        {
          "output_type": "execute_result",
          "data": {
            "text/html": [
              "<div>\n",
              "<style scoped>\n",
              "    .dataframe tbody tr th:only-of-type {\n",
              "        vertical-align: middle;\n",
              "    }\n",
              "\n",
              "    .dataframe tbody tr th {\n",
              "        vertical-align: top;\n",
              "    }\n",
              "\n",
              "    .dataframe thead th {\n",
              "        text-align: right;\n",
              "    }\n",
              "</style>\n",
              "<table border=\"1\" class=\"dataframe\">\n",
              "  <thead>\n",
              "    <tr style=\"text-align: right;\">\n",
              "      <th></th>\n",
              "      <th>id</th>\n",
              "      <th>open_il_24m</th>\n",
              "    </tr>\n",
              "  </thead>\n",
              "  <tbody>\n",
              "    <tr>\n",
              "      <th>0</th>\n",
              "      <td>1077501</td>\n",
              "      <td>C</td>\n",
              "    </tr>\n",
              "    <tr>\n",
              "      <th>1</th>\n",
              "      <td>1077430</td>\n",
              "      <td>A</td>\n",
              "    </tr>\n",
              "    <tr>\n",
              "      <th>2</th>\n",
              "      <td>1077175</td>\n",
              "      <td>A</td>\n",
              "    </tr>\n",
              "    <tr>\n",
              "      <th>3</th>\n",
              "      <td>1076863</td>\n",
              "      <td>A</td>\n",
              "    </tr>\n",
              "    <tr>\n",
              "      <th>4</th>\n",
              "      <td>1075358</td>\n",
              "      <td>A</td>\n",
              "    </tr>\n",
              "  </tbody>\n",
              "</table>\n",
              "</div>"
            ],
            "text/plain": [
              "        id open_il_24m\n",
              "0  1077501           C\n",
              "1  1077430           A\n",
              "2  1077175           A\n",
              "3  1076863           A\n",
              "4  1075358           A"
            ]
          },
          "metadata": {
            "tags": []
          },
          "execution_count": 34
        }
      ]
    },
    {
      "cell_type": "code",
      "metadata": {
        "colab": {
          "base_uri": "https://localhost:8080/"
        },
        "id": "ETsmchtuHqIy",
        "outputId": "a33b0ba2-ab82-4c76-daf0-088f769bc21c"
      },
      "source": [
        "data.shape"
      ],
      "execution_count": 35,
      "outputs": [
        {
          "output_type": "execute_result",
          "data": {
            "text/plain": [
              "(887379, 2)"
            ]
          },
          "metadata": {
            "tags": []
          },
          "execution_count": 35
        }
      ]
    },
    {
      "cell_type": "code",
      "metadata": {
        "colab": {
          "base_uri": "https://localhost:8080/"
        },
        "id": "-ruOHvupHsJA",
        "outputId": "c759764a-ac0b-4b7c-a080-3b9f042f54cc"
      },
      "source": [
        "# Переменная содержит кодировку следующих событий:\n",
        "# 'A': невозможно идентифицировать заявителя\n",
        "# 'B': нет данных\n",
        "# 'C': заявитель не имеет кредитных счетов\n",
        "\n",
        "data['open_il_24m'].unique()"
      ],
      "execution_count": 36,
      "outputs": [
        {
          "output_type": "execute_result",
          "data": {
            "text/plain": [
              "array(['C', 'A', 'B', '0.0', '1.0', '2.0', '4.0', '3.0', '6.0', '5.0',\n",
              "       '9.0', '7.0', '8.0', '13.0', '10.0', '19.0', '11.0', '12.0',\n",
              "       '14.0', '15.0'], dtype=object)"
            ]
          },
          "metadata": {
            "tags": []
          },
          "execution_count": 36
        }
      ]
    },
    {
      "cell_type": "code",
      "metadata": {
        "colab": {
          "base_uri": "https://localhost:8080/",
          "height": 294
        },
        "id": "mRhtK95YIHpx",
        "outputId": "5b9808d0-49a5-40cd-8b4b-881dd4b832ed"
      },
      "source": [
        "# создадим столбчатую диаграмму\n",
        "fig = data['open_il_24m'].value_counts().plot(kind = 'bar')\n",
        "\n",
        "fig.set_title('Number of installment accounts open')\n",
        "fig.set_ylabel('Number of borrowers');"
      ],
      "execution_count": 37,
      "outputs": [
        {
          "output_type": "display_data",
          "data": {
            "image/png": "[encoded data removed]",
            "text/plain": [
              "<Figure size 432x288 with 1 Axes>"
            ]
          },
          "metadata": {
            "tags": [],
            "needs_background": "light"
          }
        }
      ]
    }
  ]
}